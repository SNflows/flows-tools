{
 "cells": [
  {
   "cell_type": "code",
   "execution_count": 10,
   "id": "ad16280a",
   "metadata": {},
   "outputs": [],
   "source": [
    "class Test:\n",
    "    x = 0\n",
    "    \n",
    "    def __init__(self):\n",
    "        pass\n",
    "    \n",
    "    def test_attrib(self, x=x):\n",
    "        self.y = x\n",
    "        \n",
    "    def test_method(self,a,b):\n",
    "        return a**2 + b**2\n",
    "\n",
    "class Testchild(test):\n",
    "    \n",
    "    def __init__(self,a,b):\n",
    "        self.a = a\n",
    "        self.b = b\n",
    "    \n",
    "    def test_child_method(self):\n",
    "        return self.test_method(self.a,self.b)\n",
    "        "
   ]
  },
  {
   "cell_type": "code",
   "execution_count": 12,
   "id": "5114b178",
   "metadata": {},
   "outputs": [],
   "source": [
    "inh = Testchild(3,5)"
   ]
  },
  {
   "cell_type": "code",
   "execution_count": 15,
   "id": "63da1eef",
   "metadata": {},
   "outputs": [],
   "source": [
    "inh.test_attrib(5)"
   ]
  },
  {
   "cell_type": "code",
   "execution_count": 16,
   "id": "b75ed84d",
   "metadata": {},
   "outputs": [
    {
     "data": {
      "text/plain": [
       "5"
      ]
     },
     "execution_count": 16,
     "metadata": {},
     "output_type": "execute_result"
    }
   ],
   "source": [
    "inh.y"
   ]
  }
 ],
 "metadata": {
  "kernelspec": {
   "display_name": "Python 3 (ipykernel)",
   "language": "python",
   "name": "python3"
  },
  "language_info": {
   "codemirror_mode": {
    "name": "ipython",
    "version": 3
   },
   "file_extension": ".py",
   "mimetype": "text/x-python",
   "name": "python",
   "nbconvert_exporter": "python",
   "pygments_lexer": "ipython3",
   "version": "3.8.11"
  }
 },
 "nbformat": 4,
 "nbformat_minor": 5
}
